{
  "nbformat": 4,
  "nbformat_minor": 0,
  "metadata": {
    "colab": {
      "name": "Final_Project_Zhong_Eric",
      "provenance": [],
      "collapsed_sections": []
    },
    "kernelspec": {
      "name": "python3",
      "display_name": "Python 3"
    },
    "language_info": {
      "name": "python"
    },
    "accelerator": "GPU"
  },
  "cells": [
    {
      "cell_type": "markdown",
      "metadata": {
        "id": "HLZ91mmvMQyl"
      },
      "source": [
        "## **Machine Learning Final Project DUE: Friday May 7th 11:59pm**\n",
        "\n",
        "**Note: Please read all the instructions carefully before starting the project.**\n",
        "\n",
        "For your final project you will build an ML model to analyze a dataset of your choice. You are welcome to keep working on the data in your EDA project if your data is large enough (at least 1000 rows for simple models and at least 10,000 for more complex models) or you can choose from the datasets/project suggestions below.\n",
        "\n",
        "In this project make sure that you:\n",
        "- Have a large enough dataset\n",
        "- Split your data in training and testing\n",
        "- Explore your data to inform which type of model to choose (no need if you are using your EDA dataset)\n",
        "- Try different models on your training dataset - then select the most promising model\n",
        "- Use cross validation to fine tune the model’s parameters such as alpha in lasso\n",
        "- Simplify your model using regularization, prunnning, drop-out, etc. to avoid overfitting\n",
        "- Communicate your model’s performance and make sure you compare it to a benchmark when appropriate\n",
        "- Plot interesting graphs and results\n",
        "- Write and publish your article to medium\n",
        "- Commit your code to your GitHub\n",
        "\n",
        "Please ensure you handle all the preprocessing before the modeling.\n",
        "\n",
        "Suggestions for project:\n",
        "You can take a look at the resources given below for choosing a dataset for your project. \n",
        "\n",
        "- Traffic sign detection - https://benchmark.ini.rub.de/gtsdb_dataset.html\n",
        "- Cat and dog classifier - https://www.kaggle.com/c/dogs-vs-cats/data\n",
        "- Other datasets from Kaggle - https://www.kaggle.com/data/41592"
      ]
    },
    {
      "cell_type": "markdown",
      "metadata": {
        "id": "mirWm3dBPv90"
      },
      "source": [
        "## **Grading Criteria**\n",
        "\n",
        "- Show clear exploration of the data to justify model choice\n",
        "- Train mutliple models and clearly articulate why you chose your final model\n",
        "- Show your performance on test dataset\n",
        "- Clear and concise write-up with clear well-documented figures\n",
        "- Commit your code to GitHub"
      ]
    },
    {
      "cell_type": "markdown",
      "metadata": {
        "id": "4ZRNqxFcP4wx"
      },
      "source": [
        "## **Submission Details**\n",
        "\n",
        "This is an individual assignment. You may not work in groups. The assignment is due on Friday (05/07/2021)\n",
        "- To submit your assignment, download your notebook and the dataset, zip the dataset and notebook, and submit the zipped file on blackboard.\n",
        "- Make sure the notebook is named in the format - Final_LastName_FirstName. If you are submitting a zipped file, please name the file as well in the same format.\n",
        "- Please include the link to access your blog and your github repo in your notebook.\n",
        "- Also include the link to your notebook, github repo and the blog in the submission on blackboard. Please ensure the TAs have the required access to your notebooks and the github repo.\n",
        "\n",
        "**Note - If the dataset is too large to be zipped and submitted on blackboard, only submit your notebook, add your dataset to your google drive and share a link to the file in your notebook.**"
      ]
    },
    {
      "cell_type": "code",
      "metadata": {
        "id": "RCY3JgD4_IeH"
      },
      "source": [
        "import pandas as pd\n",
        "import matplotlib.pyplot as plt\n",
        "import numpy as np\n",
        "from sklearn.model_selection import train_test_split\n",
        "from sklearn.dummy import DummyClassifier\n",
        "from sklearn.impute import SimpleImputer\n",
        "from sklearn.preprocessing import MinMaxScaler\n",
        "from sklearn import model_selection\n",
        "from sklearn.ensemble import BaggingClassifier, RandomForestClassifier, VotingClassifier\n",
        "from sklearn.tree import DecisionTreeClassifier\n",
        "from sklearn.ensemble import AdaBoostClassifier\n",
        "from sklearn.dummy import DummyClassifier\n",
        "from sklearn.metrics import accuracy_score\n",
        "from sklearn.svm import SVC\n",
        "from sklearn.linear_model import LogisticRegression\n",
        "from sklearn.model_selection import cross_val_score\n",
        "from sklearn import svm"
      ],
      "execution_count": 1,
      "outputs": []
    },
    {
      "cell_type": "markdown",
      "metadata": {
        "id": "0VbHclxJe4zm"
      },
      "source": [
        "**Loading in Data**"
      ]
    },
    {
      "cell_type": "code",
      "metadata": {
        "id": "ZzWRBLl6MImY",
        "colab": {
          "base_uri": "https://localhost:8080/",
          "height": 263
        },
        "outputId": "83a6c0c0-d160-4e3a-db55-ef37ac3ffc97"
      },
      "source": [
        "pd.set_option('display.max_columns', 100)\n",
        "data = pd.read_csv(\"UFC.csv\")\n",
        "data.head()"
      ],
      "execution_count": 2,
      "outputs": [
        {
          "output_type": "execute_result",
          "data": {
            "text/html": [
              "<div>\n",
              "<style scoped>\n",
              "    .dataframe tbody tr th:only-of-type {\n",
              "        vertical-align: middle;\n",
              "    }\n",
              "\n",
              "    .dataframe tbody tr th {\n",
              "        vertical-align: top;\n",
              "    }\n",
              "\n",
              "    .dataframe thead th {\n",
              "        text-align: right;\n",
              "    }\n",
              "</style>\n",
              "<table border=\"1\" class=\"dataframe\">\n",
              "  <thead>\n",
              "    <tr style=\"text-align: right;\">\n",
              "      <th></th>\n",
              "      <th>Winner</th>\n",
              "      <th>title_bout</th>\n",
              "      <th>B_avg_KD</th>\n",
              "      <th>B_avg_opp_KD</th>\n",
              "      <th>B_avg_SIG_STR_pct</th>\n",
              "      <th>B_avg_opp_SIG_STR_pct</th>\n",
              "      <th>B_avg_TD_pct</th>\n",
              "      <th>B_avg_opp_TD_pct</th>\n",
              "      <th>B_avg_SUB_ATT</th>\n",
              "      <th>B_avg_opp_SUB_ATT</th>\n",
              "      <th>B_avg_REV</th>\n",
              "      <th>B_avg_opp_REV</th>\n",
              "      <th>B_avg_SIG_STR_att</th>\n",
              "      <th>B_avg_SIG_STR_landed</th>\n",
              "      <th>B_avg_opp_SIG_STR_att</th>\n",
              "      <th>B_avg_opp_SIG_STR_landed</th>\n",
              "      <th>B_avg_TOTAL_STR_att</th>\n",
              "      <th>B_avg_TOTAL_STR_landed</th>\n",
              "      <th>B_avg_opp_TOTAL_STR_att</th>\n",
              "      <th>B_avg_opp_TOTAL_STR_landed</th>\n",
              "      <th>B_avg_TD_att</th>\n",
              "      <th>B_avg_TD_landed</th>\n",
              "      <th>B_avg_opp_TD_att</th>\n",
              "      <th>B_avg_opp_TD_landed</th>\n",
              "      <th>B_avg_HEAD_att</th>\n",
              "      <th>B_avg_HEAD_landed</th>\n",
              "      <th>B_avg_opp_HEAD_att</th>\n",
              "      <th>B_avg_opp_HEAD_landed</th>\n",
              "      <th>B_avg_BODY_att</th>\n",
              "      <th>B_avg_BODY_landed</th>\n",
              "      <th>B_avg_opp_BODY_att</th>\n",
              "      <th>B_avg_opp_BODY_landed</th>\n",
              "      <th>B_avg_LEG_att</th>\n",
              "      <th>B_avg_LEG_landed</th>\n",
              "      <th>B_avg_opp_LEG_att</th>\n",
              "      <th>B_avg_opp_LEG_landed</th>\n",
              "      <th>B_avg_DISTANCE_att</th>\n",
              "      <th>B_avg_DISTANCE_landed</th>\n",
              "      <th>B_avg_opp_DISTANCE_att</th>\n",
              "      <th>B_avg_opp_DISTANCE_landed</th>\n",
              "      <th>B_avg_CLINCH_att</th>\n",
              "      <th>B_avg_CLINCH_landed</th>\n",
              "      <th>B_avg_opp_CLINCH_att</th>\n",
              "      <th>B_avg_opp_CLINCH_landed</th>\n",
              "      <th>B_avg_GROUND_att</th>\n",
              "      <th>B_avg_GROUND_landed</th>\n",
              "      <th>B_avg_opp_GROUND_att</th>\n",
              "      <th>B_avg_opp_GROUND_landed</th>\n",
              "      <th>B_avg_CTRL_time(seconds)</th>\n",
              "      <th>B_avg_opp_CTRL_time(seconds)</th>\n",
              "      <th>...</th>\n",
              "      <th>R_avg_GROUND_att</th>\n",
              "      <th>R_avg_GROUND_landed</th>\n",
              "      <th>R_avg_opp_GROUND_att</th>\n",
              "      <th>R_avg_opp_GROUND_landed</th>\n",
              "      <th>R_avg_CTRL_time(seconds)</th>\n",
              "      <th>R_avg_opp_CTRL_time(seconds)</th>\n",
              "      <th>R_total_time_fought(seconds)</th>\n",
              "      <th>R_total_rounds_fought</th>\n",
              "      <th>R_total_title_bouts</th>\n",
              "      <th>R_current_win_streak</th>\n",
              "      <th>R_current_lose_streak</th>\n",
              "      <th>R_longest_win_streak</th>\n",
              "      <th>R_wins</th>\n",
              "      <th>R_losses</th>\n",
              "      <th>R_draw</th>\n",
              "      <th>R_win_by_Decision_Majority</th>\n",
              "      <th>R_win_by_Decision_Split</th>\n",
              "      <th>R_win_by_Decision_Unanimous</th>\n",
              "      <th>R_win_by_KO/TKO</th>\n",
              "      <th>R_win_by_Submission</th>\n",
              "      <th>R_win_by_TKO_Doctor_Stoppage</th>\n",
              "      <th>R_Height_cms</th>\n",
              "      <th>R_Reach_cms</th>\n",
              "      <th>R_Weight_lbs</th>\n",
              "      <th>B_age</th>\n",
              "      <th>R_age</th>\n",
              "      <th>weight_class_Bantamweight</th>\n",
              "      <th>weight_class_CatchWeight</th>\n",
              "      <th>weight_class_Featherweight</th>\n",
              "      <th>weight_class_Flyweight</th>\n",
              "      <th>weight_class_Heavyweight</th>\n",
              "      <th>weight_class_LightHeavyweight</th>\n",
              "      <th>weight_class_Lightweight</th>\n",
              "      <th>weight_class_Middleweight</th>\n",
              "      <th>weight_class_OpenWeight</th>\n",
              "      <th>weight_class_Welterweight</th>\n",
              "      <th>weight_class_WomenBantamweight</th>\n",
              "      <th>weight_class_WomenFeatherweight</th>\n",
              "      <th>weight_class_WomenFlyweight</th>\n",
              "      <th>weight_class_WomenStrawweight</th>\n",
              "      <th>B_Stance_Open Stance</th>\n",
              "      <th>B_Stance_Orthodox</th>\n",
              "      <th>B_Stance_Sideways</th>\n",
              "      <th>B_Stance_Southpaw</th>\n",
              "      <th>B_Stance_Switch</th>\n",
              "      <th>R_Stance_Open Stance</th>\n",
              "      <th>R_Stance_Orthodox</th>\n",
              "      <th>R_Stance_Sideways</th>\n",
              "      <th>R_Stance_Southpaw</th>\n",
              "      <th>R_Stance_Switch</th>\n",
              "    </tr>\n",
              "  </thead>\n",
              "  <tbody>\n",
              "    <tr>\n",
              "      <th>0</th>\n",
              "      <td>Red</td>\n",
              "      <td>False</td>\n",
              "      <td>0.000000</td>\n",
              "      <td>0.0</td>\n",
              "      <td>0.420000</td>\n",
              "      <td>0.49500</td>\n",
              "      <td>0.330</td>\n",
              "      <td>0.36000</td>\n",
              "      <td>0.500000</td>\n",
              "      <td>1.000000</td>\n",
              "      <td>0.00</td>\n",
              "      <td>0.0</td>\n",
              "      <td>50.0000</td>\n",
              "      <td>20.0000</td>\n",
              "      <td>84.000000</td>\n",
              "      <td>45.00000</td>\n",
              "      <td>76.5000</td>\n",
              "      <td>41.000</td>\n",
              "      <td>114.00000</td>\n",
              "      <td>64.000000</td>\n",
              "      <td>1.500</td>\n",
              "      <td>1.00</td>\n",
              "      <td>9.000000</td>\n",
              "      <td>6.500</td>\n",
              "      <td>39.5000</td>\n",
              "      <td>11.000000</td>\n",
              "      <td>63.000000</td>\n",
              "      <td>27.500000</td>\n",
              "      <td>7.5000</td>\n",
              "      <td>7.000000</td>\n",
              "      <td>12.0000</td>\n",
              "      <td>9.0000</td>\n",
              "      <td>3.000</td>\n",
              "      <td>2.000</td>\n",
              "      <td>9.000000</td>\n",
              "      <td>8.5000</td>\n",
              "      <td>35.0000</td>\n",
              "      <td>12.5</td>\n",
              "      <td>43.500000</td>\n",
              "      <td>17.5000</td>\n",
              "      <td>10.5000</td>\n",
              "      <td>4.5000</td>\n",
              "      <td>4.0000</td>\n",
              "      <td>3.0000</td>\n",
              "      <td>4.5000</td>\n",
              "      <td>3.000</td>\n",
              "      <td>36.500</td>\n",
              "      <td>24.50</td>\n",
              "      <td>34.000000</td>\n",
              "      <td>277.5000</td>\n",
              "      <td>...</td>\n",
              "      <td>0.000000</td>\n",
              "      <td>0.000000</td>\n",
              "      <td>0.000000</td>\n",
              "      <td>0.000000</td>\n",
              "      <td>5.000000</td>\n",
              "      <td>54.000000</td>\n",
              "      <td>166.000000</td>\n",
              "      <td>1</td>\n",
              "      <td>0</td>\n",
              "      <td>1</td>\n",
              "      <td>0</td>\n",
              "      <td>1</td>\n",
              "      <td>1</td>\n",
              "      <td>0</td>\n",
              "      <td>0</td>\n",
              "      <td>0</td>\n",
              "      <td>0</td>\n",
              "      <td>0</td>\n",
              "      <td>1</td>\n",
              "      <td>0</td>\n",
              "      <td>0</td>\n",
              "      <td>170.18</td>\n",
              "      <td>177.80</td>\n",
              "      <td>135.0</td>\n",
              "      <td>31.0</td>\n",
              "      <td>27.0</td>\n",
              "      <td>1</td>\n",
              "      <td>0</td>\n",
              "      <td>0</td>\n",
              "      <td>0</td>\n",
              "      <td>0</td>\n",
              "      <td>0</td>\n",
              "      <td>0</td>\n",
              "      <td>0</td>\n",
              "      <td>0</td>\n",
              "      <td>0</td>\n",
              "      <td>0</td>\n",
              "      <td>0</td>\n",
              "      <td>0</td>\n",
              "      <td>0</td>\n",
              "      <td>0</td>\n",
              "      <td>1</td>\n",
              "      <td>0</td>\n",
              "      <td>0</td>\n",
              "      <td>0</td>\n",
              "      <td>0</td>\n",
              "      <td>1</td>\n",
              "      <td>0</td>\n",
              "      <td>0</td>\n",
              "      <td>0</td>\n",
              "    </tr>\n",
              "    <tr>\n",
              "      <th>1</th>\n",
              "      <td>Red</td>\n",
              "      <td>False</td>\n",
              "      <td>0.500000</td>\n",
              "      <td>0.0</td>\n",
              "      <td>0.660000</td>\n",
              "      <td>0.30500</td>\n",
              "      <td>0.300</td>\n",
              "      <td>0.50000</td>\n",
              "      <td>1.500000</td>\n",
              "      <td>0.000000</td>\n",
              "      <td>0.00</td>\n",
              "      <td>0.0</td>\n",
              "      <td>65.5000</td>\n",
              "      <td>35.0000</td>\n",
              "      <td>50.000000</td>\n",
              "      <td>16.50000</td>\n",
              "      <td>113.5000</td>\n",
              "      <td>68.500</td>\n",
              "      <td>68.50000</td>\n",
              "      <td>29.000000</td>\n",
              "      <td>2.500</td>\n",
              "      <td>1.50</td>\n",
              "      <td>0.500000</td>\n",
              "      <td>0.500</td>\n",
              "      <td>46.0000</td>\n",
              "      <td>20.000000</td>\n",
              "      <td>36.000000</td>\n",
              "      <td>7.500000</td>\n",
              "      <td>12.0000</td>\n",
              "      <td>8.000000</td>\n",
              "      <td>8.0000</td>\n",
              "      <td>3.0000</td>\n",
              "      <td>7.500</td>\n",
              "      <td>7.000</td>\n",
              "      <td>6.000000</td>\n",
              "      <td>6.0000</td>\n",
              "      <td>58.0000</td>\n",
              "      <td>30.0</td>\n",
              "      <td>48.000000</td>\n",
              "      <td>15.5000</td>\n",
              "      <td>0.5000</td>\n",
              "      <td>0.5000</td>\n",
              "      <td>0.5000</td>\n",
              "      <td>0.5000</td>\n",
              "      <td>7.0000</td>\n",
              "      <td>4.500</td>\n",
              "      <td>1.500</td>\n",
              "      <td>0.50</td>\n",
              "      <td>219.500000</td>\n",
              "      <td>24.5000</td>\n",
              "      <td>...</td>\n",
              "      <td>12.281250</td>\n",
              "      <td>9.062500</td>\n",
              "      <td>0.843750</td>\n",
              "      <td>0.343750</td>\n",
              "      <td>176.156250</td>\n",
              "      <td>154.687500</td>\n",
              "      <td>747.343750</td>\n",
              "      <td>17</td>\n",
              "      <td>0</td>\n",
              "      <td>2</td>\n",
              "      <td>0</td>\n",
              "      <td>2</td>\n",
              "      <td>4</td>\n",
              "      <td>2</td>\n",
              "      <td>0</td>\n",
              "      <td>0</td>\n",
              "      <td>1</td>\n",
              "      <td>0</td>\n",
              "      <td>3</td>\n",
              "      <td>0</td>\n",
              "      <td>0</td>\n",
              "      <td>182.88</td>\n",
              "      <td>187.96</td>\n",
              "      <td>185.0</td>\n",
              "      <td>32.0</td>\n",
              "      <td>28.0</td>\n",
              "      <td>0</td>\n",
              "      <td>0</td>\n",
              "      <td>0</td>\n",
              "      <td>0</td>\n",
              "      <td>0</td>\n",
              "      <td>0</td>\n",
              "      <td>0</td>\n",
              "      <td>1</td>\n",
              "      <td>0</td>\n",
              "      <td>0</td>\n",
              "      <td>0</td>\n",
              "      <td>0</td>\n",
              "      <td>0</td>\n",
              "      <td>0</td>\n",
              "      <td>0</td>\n",
              "      <td>1</td>\n",
              "      <td>0</td>\n",
              "      <td>0</td>\n",
              "      <td>0</td>\n",
              "      <td>0</td>\n",
              "      <td>1</td>\n",
              "      <td>0</td>\n",
              "      <td>0</td>\n",
              "      <td>0</td>\n",
              "    </tr>\n",
              "    <tr>\n",
              "      <th>2</th>\n",
              "      <td>Red</td>\n",
              "      <td>False</td>\n",
              "      <td>0.015625</td>\n",
              "      <td>0.0</td>\n",
              "      <td>0.450000</td>\n",
              "      <td>0.42750</td>\n",
              "      <td>0.250</td>\n",
              "      <td>0.20000</td>\n",
              "      <td>0.148468</td>\n",
              "      <td>0.098389</td>\n",
              "      <td>0.00</td>\n",
              "      <td>0.0</td>\n",
              "      <td>66.5000</td>\n",
              "      <td>29.6875</td>\n",
              "      <td>64.312305</td>\n",
              "      <td>27.34375</td>\n",
              "      <td>89.7500</td>\n",
              "      <td>48.000</td>\n",
              "      <td>85.53125</td>\n",
              "      <td>44.411522</td>\n",
              "      <td>2.000</td>\n",
              "      <td>0.75</td>\n",
              "      <td>2.054688</td>\n",
              "      <td>0.750</td>\n",
              "      <td>51.1875</td>\n",
              "      <td>18.335938</td>\n",
              "      <td>49.612305</td>\n",
              "      <td>16.280411</td>\n",
              "      <td>7.5000</td>\n",
              "      <td>5.076477</td>\n",
              "      <td>7.5000</td>\n",
              "      <td>5.0000</td>\n",
              "      <td>4.500</td>\n",
              "      <td>3.625</td>\n",
              "      <td>4.984375</td>\n",
              "      <td>3.9375</td>\n",
              "      <td>48.6875</td>\n",
              "      <td>17.0</td>\n",
              "      <td>47.115723</td>\n",
              "      <td>16.5000</td>\n",
              "      <td>5.7500</td>\n",
              "      <td>3.7500</td>\n",
              "      <td>5.3125</td>\n",
              "      <td>3.4375</td>\n",
              "      <td>5.0625</td>\n",
              "      <td>3.500</td>\n",
              "      <td>3.875</td>\n",
              "      <td>2.50</td>\n",
              "      <td>99.211914</td>\n",
              "      <td>94.1250</td>\n",
              "      <td>...</td>\n",
              "      <td>2.031250</td>\n",
              "      <td>1.531250</td>\n",
              "      <td>6.031250</td>\n",
              "      <td>4.937500</td>\n",
              "      <td>82.453125</td>\n",
              "      <td>89.781250</td>\n",
              "      <td>448.203125</td>\n",
              "      <td>13</td>\n",
              "      <td>0</td>\n",
              "      <td>3</td>\n",
              "      <td>0</td>\n",
              "      <td>3</td>\n",
              "      <td>4</td>\n",
              "      <td>3</td>\n",
              "      <td>0</td>\n",
              "      <td>0</td>\n",
              "      <td>0</td>\n",
              "      <td>1</td>\n",
              "      <td>3</td>\n",
              "      <td>0</td>\n",
              "      <td>0</td>\n",
              "      <td>187.96</td>\n",
              "      <td>190.50</td>\n",
              "      <td>264.0</td>\n",
              "      <td>32.0</td>\n",
              "      <td>28.0</td>\n",
              "      <td>0</td>\n",
              "      <td>0</td>\n",
              "      <td>0</td>\n",
              "      <td>0</td>\n",
              "      <td>1</td>\n",
              "      <td>0</td>\n",
              "      <td>0</td>\n",
              "      <td>0</td>\n",
              "      <td>0</td>\n",
              "      <td>0</td>\n",
              "      <td>0</td>\n",
              "      <td>0</td>\n",
              "      <td>0</td>\n",
              "      <td>0</td>\n",
              "      <td>0</td>\n",
              "      <td>1</td>\n",
              "      <td>0</td>\n",
              "      <td>0</td>\n",
              "      <td>0</td>\n",
              "      <td>0</td>\n",
              "      <td>0</td>\n",
              "      <td>0</td>\n",
              "      <td>1</td>\n",
              "      <td>0</td>\n",
              "    </tr>\n",
              "    <tr>\n",
              "      <th>3</th>\n",
              "      <td>Blue</td>\n",
              "      <td>False</td>\n",
              "      <td>0.015625</td>\n",
              "      <td>0.0</td>\n",
              "      <td>0.450000</td>\n",
              "      <td>0.42750</td>\n",
              "      <td>0.250</td>\n",
              "      <td>0.20000</td>\n",
              "      <td>0.148468</td>\n",
              "      <td>0.098389</td>\n",
              "      <td>0.00</td>\n",
              "      <td>0.0</td>\n",
              "      <td>66.5000</td>\n",
              "      <td>29.6875</td>\n",
              "      <td>64.312305</td>\n",
              "      <td>27.34375</td>\n",
              "      <td>89.7500</td>\n",
              "      <td>48.000</td>\n",
              "      <td>85.53125</td>\n",
              "      <td>44.411522</td>\n",
              "      <td>2.000</td>\n",
              "      <td>0.75</td>\n",
              "      <td>2.054688</td>\n",
              "      <td>0.750</td>\n",
              "      <td>51.1875</td>\n",
              "      <td>18.335938</td>\n",
              "      <td>49.612305</td>\n",
              "      <td>16.280411</td>\n",
              "      <td>7.5000</td>\n",
              "      <td>5.076477</td>\n",
              "      <td>7.5000</td>\n",
              "      <td>5.0000</td>\n",
              "      <td>4.500</td>\n",
              "      <td>3.625</td>\n",
              "      <td>4.984375</td>\n",
              "      <td>3.9375</td>\n",
              "      <td>48.6875</td>\n",
              "      <td>17.0</td>\n",
              "      <td>47.115723</td>\n",
              "      <td>16.5000</td>\n",
              "      <td>5.7500</td>\n",
              "      <td>3.7500</td>\n",
              "      <td>5.3125</td>\n",
              "      <td>3.4375</td>\n",
              "      <td>5.0625</td>\n",
              "      <td>3.500</td>\n",
              "      <td>3.875</td>\n",
              "      <td>2.50</td>\n",
              "      <td>99.211914</td>\n",
              "      <td>94.1250</td>\n",
              "      <td>...</td>\n",
              "      <td>5.375000</td>\n",
              "      <td>3.687500</td>\n",
              "      <td>4.000000</td>\n",
              "      <td>2.656250</td>\n",
              "      <td>104.865234</td>\n",
              "      <td>89.500000</td>\n",
              "      <td>655.844101</td>\n",
              "      <td>0</td>\n",
              "      <td>0</td>\n",
              "      <td>0</td>\n",
              "      <td>0</td>\n",
              "      <td>0</td>\n",
              "      <td>0</td>\n",
              "      <td>0</td>\n",
              "      <td>0</td>\n",
              "      <td>0</td>\n",
              "      <td>0</td>\n",
              "      <td>0</td>\n",
              "      <td>0</td>\n",
              "      <td>0</td>\n",
              "      <td>0</td>\n",
              "      <td>160.02</td>\n",
              "      <td>160.02</td>\n",
              "      <td>115.0</td>\n",
              "      <td>28.0</td>\n",
              "      <td>25.0</td>\n",
              "      <td>0</td>\n",
              "      <td>0</td>\n",
              "      <td>0</td>\n",
              "      <td>0</td>\n",
              "      <td>0</td>\n",
              "      <td>0</td>\n",
              "      <td>0</td>\n",
              "      <td>0</td>\n",
              "      <td>0</td>\n",
              "      <td>0</td>\n",
              "      <td>0</td>\n",
              "      <td>0</td>\n",
              "      <td>0</td>\n",
              "      <td>1</td>\n",
              "      <td>0</td>\n",
              "      <td>0</td>\n",
              "      <td>0</td>\n",
              "      <td>1</td>\n",
              "      <td>0</td>\n",
              "      <td>0</td>\n",
              "      <td>0</td>\n",
              "      <td>0</td>\n",
              "      <td>0</td>\n",
              "      <td>1</td>\n",
              "    </tr>\n",
              "    <tr>\n",
              "      <th>4</th>\n",
              "      <td>Blue</td>\n",
              "      <td>False</td>\n",
              "      <td>0.125000</td>\n",
              "      <td>0.0</td>\n",
              "      <td>0.535625</td>\n",
              "      <td>0.57875</td>\n",
              "      <td>0.185</td>\n",
              "      <td>0.16625</td>\n",
              "      <td>0.125000</td>\n",
              "      <td>0.187500</td>\n",
              "      <td>0.25</td>\n",
              "      <td>0.0</td>\n",
              "      <td>109.1875</td>\n",
              "      <td>57.9375</td>\n",
              "      <td>50.625000</td>\n",
              "      <td>28.43750</td>\n",
              "      <td>170.4375</td>\n",
              "      <td>105.625</td>\n",
              "      <td>74.37500</td>\n",
              "      <td>44.250000</td>\n",
              "      <td>5.375</td>\n",
              "      <td>1.50</td>\n",
              "      <td>2.000000</td>\n",
              "      <td>0.625</td>\n",
              "      <td>77.3750</td>\n",
              "      <td>31.375000</td>\n",
              "      <td>41.562500</td>\n",
              "      <td>22.625000</td>\n",
              "      <td>31.1875</td>\n",
              "      <td>26.187500</td>\n",
              "      <td>7.6875</td>\n",
              "      <td>4.9375</td>\n",
              "      <td>0.625</td>\n",
              "      <td>0.375</td>\n",
              "      <td>1.375000</td>\n",
              "      <td>0.8750</td>\n",
              "      <td>33.5625</td>\n",
              "      <td>11.0</td>\n",
              "      <td>32.062500</td>\n",
              "      <td>13.9375</td>\n",
              "      <td>39.0625</td>\n",
              "      <td>28.8125</td>\n",
              "      <td>13.3125</td>\n",
              "      <td>10.7500</td>\n",
              "      <td>36.5625</td>\n",
              "      <td>18.125</td>\n",
              "      <td>5.250</td>\n",
              "      <td>3.75</td>\n",
              "      <td>390.250000</td>\n",
              "      <td>156.3125</td>\n",
              "      <td>...</td>\n",
              "      <td>4.489258</td>\n",
              "      <td>2.484375</td>\n",
              "      <td>6.621094</td>\n",
              "      <td>4.015625</td>\n",
              "      <td>141.285156</td>\n",
              "      <td>310.152344</td>\n",
              "      <td>874.380859</td>\n",
              "      <td>30</td>\n",
              "      <td>0</td>\n",
              "      <td>2</td>\n",
              "      <td>0</td>\n",
              "      <td>2</td>\n",
              "      <td>5</td>\n",
              "      <td>6</td>\n",
              "      <td>0</td>\n",
              "      <td>0</td>\n",
              "      <td>0</td>\n",
              "      <td>1</td>\n",
              "      <td>2</td>\n",
              "      <td>2</td>\n",
              "      <td>0</td>\n",
              "      <td>167.64</td>\n",
              "      <td>172.72</td>\n",
              "      <td>135.0</td>\n",
              "      <td>29.0</td>\n",
              "      <td>43.0</td>\n",
              "      <td>0</td>\n",
              "      <td>0</td>\n",
              "      <td>0</td>\n",
              "      <td>0</td>\n",
              "      <td>0</td>\n",
              "      <td>0</td>\n",
              "      <td>0</td>\n",
              "      <td>0</td>\n",
              "      <td>0</td>\n",
              "      <td>0</td>\n",
              "      <td>1</td>\n",
              "      <td>0</td>\n",
              "      <td>0</td>\n",
              "      <td>0</td>\n",
              "      <td>0</td>\n",
              "      <td>1</td>\n",
              "      <td>0</td>\n",
              "      <td>0</td>\n",
              "      <td>0</td>\n",
              "      <td>0</td>\n",
              "      <td>1</td>\n",
              "      <td>0</td>\n",
              "      <td>0</td>\n",
              "      <td>0</td>\n",
              "    </tr>\n",
              "  </tbody>\n",
              "</table>\n",
              "<p>5 rows × 160 columns</p>\n",
              "</div>"
            ],
            "text/plain": [
              "  Winner  title_bout  B_avg_KD  B_avg_opp_KD  B_avg_SIG_STR_pct  \\\n",
              "0    Red       False  0.000000           0.0           0.420000   \n",
              "1    Red       False  0.500000           0.0           0.660000   \n",
              "2    Red       False  0.015625           0.0           0.450000   \n",
              "3   Blue       False  0.015625           0.0           0.450000   \n",
              "4   Blue       False  0.125000           0.0           0.535625   \n",
              "\n",
              "   B_avg_opp_SIG_STR_pct  B_avg_TD_pct  B_avg_opp_TD_pct  B_avg_SUB_ATT  \\\n",
              "0                0.49500         0.330           0.36000       0.500000   \n",
              "1                0.30500         0.300           0.50000       1.500000   \n",
              "2                0.42750         0.250           0.20000       0.148468   \n",
              "3                0.42750         0.250           0.20000       0.148468   \n",
              "4                0.57875         0.185           0.16625       0.125000   \n",
              "\n",
              "   B_avg_opp_SUB_ATT  B_avg_REV  B_avg_opp_REV  B_avg_SIG_STR_att  \\\n",
              "0           1.000000       0.00            0.0            50.0000   \n",
              "1           0.000000       0.00            0.0            65.5000   \n",
              "2           0.098389       0.00            0.0            66.5000   \n",
              "3           0.098389       0.00            0.0            66.5000   \n",
              "4           0.187500       0.25            0.0           109.1875   \n",
              "\n",
              "   B_avg_SIG_STR_landed  B_avg_opp_SIG_STR_att  B_avg_opp_SIG_STR_landed  \\\n",
              "0               20.0000              84.000000                  45.00000   \n",
              "1               35.0000              50.000000                  16.50000   \n",
              "2               29.6875              64.312305                  27.34375   \n",
              "3               29.6875              64.312305                  27.34375   \n",
              "4               57.9375              50.625000                  28.43750   \n",
              "\n",
              "   B_avg_TOTAL_STR_att  B_avg_TOTAL_STR_landed  B_avg_opp_TOTAL_STR_att  \\\n",
              "0              76.5000                  41.000                114.00000   \n",
              "1             113.5000                  68.500                 68.50000   \n",
              "2              89.7500                  48.000                 85.53125   \n",
              "3              89.7500                  48.000                 85.53125   \n",
              "4             170.4375                 105.625                 74.37500   \n",
              "\n",
              "   B_avg_opp_TOTAL_STR_landed  B_avg_TD_att  B_avg_TD_landed  \\\n",
              "0                   64.000000         1.500             1.00   \n",
              "1                   29.000000         2.500             1.50   \n",
              "2                   44.411522         2.000             0.75   \n",
              "3                   44.411522         2.000             0.75   \n",
              "4                   44.250000         5.375             1.50   \n",
              "\n",
              "   B_avg_opp_TD_att  B_avg_opp_TD_landed  B_avg_HEAD_att  B_avg_HEAD_landed  \\\n",
              "0          9.000000                6.500         39.5000          11.000000   \n",
              "1          0.500000                0.500         46.0000          20.000000   \n",
              "2          2.054688                0.750         51.1875          18.335938   \n",
              "3          2.054688                0.750         51.1875          18.335938   \n",
              "4          2.000000                0.625         77.3750          31.375000   \n",
              "\n",
              "   B_avg_opp_HEAD_att  B_avg_opp_HEAD_landed  B_avg_BODY_att  \\\n",
              "0           63.000000              27.500000          7.5000   \n",
              "1           36.000000               7.500000         12.0000   \n",
              "2           49.612305              16.280411          7.5000   \n",
              "3           49.612305              16.280411          7.5000   \n",
              "4           41.562500              22.625000         31.1875   \n",
              "\n",
              "   B_avg_BODY_landed  B_avg_opp_BODY_att  B_avg_opp_BODY_landed  \\\n",
              "0           7.000000             12.0000                 9.0000   \n",
              "1           8.000000              8.0000                 3.0000   \n",
              "2           5.076477              7.5000                 5.0000   \n",
              "3           5.076477              7.5000                 5.0000   \n",
              "4          26.187500              7.6875                 4.9375   \n",
              "\n",
              "   B_avg_LEG_att  B_avg_LEG_landed  B_avg_opp_LEG_att  B_avg_opp_LEG_landed  \\\n",
              "0          3.000             2.000           9.000000                8.5000   \n",
              "1          7.500             7.000           6.000000                6.0000   \n",
              "2          4.500             3.625           4.984375                3.9375   \n",
              "3          4.500             3.625           4.984375                3.9375   \n",
              "4          0.625             0.375           1.375000                0.8750   \n",
              "\n",
              "   B_avg_DISTANCE_att  B_avg_DISTANCE_landed  B_avg_opp_DISTANCE_att  \\\n",
              "0             35.0000                   12.5               43.500000   \n",
              "1             58.0000                   30.0               48.000000   \n",
              "2             48.6875                   17.0               47.115723   \n",
              "3             48.6875                   17.0               47.115723   \n",
              "4             33.5625                   11.0               32.062500   \n",
              "\n",
              "   B_avg_opp_DISTANCE_landed  B_avg_CLINCH_att  B_avg_CLINCH_landed  \\\n",
              "0                    17.5000           10.5000               4.5000   \n",
              "1                    15.5000            0.5000               0.5000   \n",
              "2                    16.5000            5.7500               3.7500   \n",
              "3                    16.5000            5.7500               3.7500   \n",
              "4                    13.9375           39.0625              28.8125   \n",
              "\n",
              "   B_avg_opp_CLINCH_att  B_avg_opp_CLINCH_landed  B_avg_GROUND_att  \\\n",
              "0                4.0000                   3.0000            4.5000   \n",
              "1                0.5000                   0.5000            7.0000   \n",
              "2                5.3125                   3.4375            5.0625   \n",
              "3                5.3125                   3.4375            5.0625   \n",
              "4               13.3125                  10.7500           36.5625   \n",
              "\n",
              "   B_avg_GROUND_landed  B_avg_opp_GROUND_att  B_avg_opp_GROUND_landed  \\\n",
              "0                3.000                36.500                    24.50   \n",
              "1                4.500                 1.500                     0.50   \n",
              "2                3.500                 3.875                     2.50   \n",
              "3                3.500                 3.875                     2.50   \n",
              "4               18.125                 5.250                     3.75   \n",
              "\n",
              "   B_avg_CTRL_time(seconds)  B_avg_opp_CTRL_time(seconds)  ...  \\\n",
              "0                 34.000000                      277.5000  ...   \n",
              "1                219.500000                       24.5000  ...   \n",
              "2                 99.211914                       94.1250  ...   \n",
              "3                 99.211914                       94.1250  ...   \n",
              "4                390.250000                      156.3125  ...   \n",
              "\n",
              "   R_avg_GROUND_att  R_avg_GROUND_landed  R_avg_opp_GROUND_att  \\\n",
              "0          0.000000             0.000000              0.000000   \n",
              "1         12.281250             9.062500              0.843750   \n",
              "2          2.031250             1.531250              6.031250   \n",
              "3          5.375000             3.687500              4.000000   \n",
              "4          4.489258             2.484375              6.621094   \n",
              "\n",
              "   R_avg_opp_GROUND_landed  R_avg_CTRL_time(seconds)  \\\n",
              "0                 0.000000                  5.000000   \n",
              "1                 0.343750                176.156250   \n",
              "2                 4.937500                 82.453125   \n",
              "3                 2.656250                104.865234   \n",
              "4                 4.015625                141.285156   \n",
              "\n",
              "   R_avg_opp_CTRL_time(seconds)  R_total_time_fought(seconds)  \\\n",
              "0                     54.000000                    166.000000   \n",
              "1                    154.687500                    747.343750   \n",
              "2                     89.781250                    448.203125   \n",
              "3                     89.500000                    655.844101   \n",
              "4                    310.152344                    874.380859   \n",
              "\n",
              "   R_total_rounds_fought  R_total_title_bouts  R_current_win_streak  \\\n",
              "0                      1                    0                     1   \n",
              "1                     17                    0                     2   \n",
              "2                     13                    0                     3   \n",
              "3                      0                    0                     0   \n",
              "4                     30                    0                     2   \n",
              "\n",
              "   R_current_lose_streak  R_longest_win_streak  R_wins  R_losses  R_draw  \\\n",
              "0                      0                     1       1         0       0   \n",
              "1                      0                     2       4         2       0   \n",
              "2                      0                     3       4         3       0   \n",
              "3                      0                     0       0         0       0   \n",
              "4                      0                     2       5         6       0   \n",
              "\n",
              "   R_win_by_Decision_Majority  R_win_by_Decision_Split  \\\n",
              "0                           0                        0   \n",
              "1                           0                        1   \n",
              "2                           0                        0   \n",
              "3                           0                        0   \n",
              "4                           0                        0   \n",
              "\n",
              "   R_win_by_Decision_Unanimous  R_win_by_KO/TKO  R_win_by_Submission  \\\n",
              "0                            0                1                    0   \n",
              "1                            0                3                    0   \n",
              "2                            1                3                    0   \n",
              "3                            0                0                    0   \n",
              "4                            1                2                    2   \n",
              "\n",
              "   R_win_by_TKO_Doctor_Stoppage  R_Height_cms  R_Reach_cms  R_Weight_lbs  \\\n",
              "0                             0        170.18       177.80         135.0   \n",
              "1                             0        182.88       187.96         185.0   \n",
              "2                             0        187.96       190.50         264.0   \n",
              "3                             0        160.02       160.02         115.0   \n",
              "4                             0        167.64       172.72         135.0   \n",
              "\n",
              "   B_age  R_age  weight_class_Bantamweight  weight_class_CatchWeight  \\\n",
              "0   31.0   27.0                          1                         0   \n",
              "1   32.0   28.0                          0                         0   \n",
              "2   32.0   28.0                          0                         0   \n",
              "3   28.0   25.0                          0                         0   \n",
              "4   29.0   43.0                          0                         0   \n",
              "\n",
              "   weight_class_Featherweight  weight_class_Flyweight  \\\n",
              "0                           0                       0   \n",
              "1                           0                       0   \n",
              "2                           0                       0   \n",
              "3                           0                       0   \n",
              "4                           0                       0   \n",
              "\n",
              "   weight_class_Heavyweight  weight_class_LightHeavyweight  \\\n",
              "0                         0                              0   \n",
              "1                         0                              0   \n",
              "2                         1                              0   \n",
              "3                         0                              0   \n",
              "4                         0                              0   \n",
              "\n",
              "   weight_class_Lightweight  weight_class_Middleweight  \\\n",
              "0                         0                          0   \n",
              "1                         0                          1   \n",
              "2                         0                          0   \n",
              "3                         0                          0   \n",
              "4                         0                          0   \n",
              "\n",
              "   weight_class_OpenWeight  weight_class_Welterweight  \\\n",
              "0                        0                          0   \n",
              "1                        0                          0   \n",
              "2                        0                          0   \n",
              "3                        0                          0   \n",
              "4                        0                          0   \n",
              "\n",
              "   weight_class_WomenBantamweight  weight_class_WomenFeatherweight  \\\n",
              "0                               0                                0   \n",
              "1                               0                                0   \n",
              "2                               0                                0   \n",
              "3                               0                                0   \n",
              "4                               1                                0   \n",
              "\n",
              "   weight_class_WomenFlyweight  weight_class_WomenStrawweight  \\\n",
              "0                            0                              0   \n",
              "1                            0                              0   \n",
              "2                            0                              0   \n",
              "3                            0                              1   \n",
              "4                            0                              0   \n",
              "\n",
              "   B_Stance_Open Stance  B_Stance_Orthodox  B_Stance_Sideways  \\\n",
              "0                     0                  1                  0   \n",
              "1                     0                  1                  0   \n",
              "2                     0                  1                  0   \n",
              "3                     0                  0                  0   \n",
              "4                     0                  1                  0   \n",
              "\n",
              "   B_Stance_Southpaw  B_Stance_Switch  R_Stance_Open Stance  \\\n",
              "0                  0                0                     0   \n",
              "1                  0                0                     0   \n",
              "2                  0                0                     0   \n",
              "3                  1                0                     0   \n",
              "4                  0                0                     0   \n",
              "\n",
              "   R_Stance_Orthodox  R_Stance_Sideways  R_Stance_Southpaw  R_Stance_Switch  \n",
              "0                  1                  0                  0                0  \n",
              "1                  1                  0                  0                0  \n",
              "2                  0                  0                  1                0  \n",
              "3                  0                  0                  0                1  \n",
              "4                  1                  0                  0                0  \n",
              "\n",
              "[5 rows x 160 columns]"
            ]
          },
          "metadata": {
            "tags": []
          },
          "execution_count": 2
        }
      ]
    },
    {
      "cell_type": "markdown",
      "metadata": {
        "id": "uiQJEPLgrcg0"
      },
      "source": [
        "**Exploring Data**"
      ]
    },
    {
      "cell_type": "code",
      "metadata": {
        "id": "dX3BlYphN1No"
      },
      "source": [
        "print(data['Winner'].value_counts())\n",
        "print(data.info())\n",
        "print(data.isna().any())\n"
      ],
      "execution_count": null,
      "outputs": []
    },
    {
      "cell_type": "code",
      "metadata": {
        "colab": {
          "base_uri": "https://localhost:8080/",
          "height": 307
        },
        "id": "hUscSQmqdCqk",
        "outputId": "f1b04a09-4b5b-466a-e24b-9b4722aa58cd"
      },
      "source": [
        "ax1 = data['Winner'].value_counts().plot(kind= 'bar')\n",
        "ax1.set_title(\"Wins Between Red and Blue Corners\")\n",
        "ax1.set_xlabel(\"Corner\")\n",
        "ax1.set_ylabel(\"Number of Wins\")\n",
        "\n",
        "plt.show()"
      ],
      "execution_count": 4,
      "outputs": [
        {
          "output_type": "display_data",
          "data": {
            "image/png": "[encoded data removed]",
            "text/plain": [
              "<Figure size 432x288 with 1 Axes>"
            ]
          },
          "metadata": {
            "tags": [],
            "needs_background": "light"
          }
        }
      ]
    },
    {
      "cell_type": "code",
      "metadata": {
        "id": "ZBgvh6yVaVPF"
      },
      "source": [
        "redWins = sum(data['R_wins'])\n",
        "#print(redWins)\n",
        "\n",
        "blueWins = sum(data['B_wins'])\n",
        "#print(blueWins)\n",
        "\n",
        "fig = plt.figure()\n",
        "ax1 = fig.add_subplot()\n",
        "ax1.bar(['Red', 'Blue'], [redWins, blueWins], width= 0.5)\n",
        "ax1.set_title(\"Previous Win Records by Corner Color\")\n",
        "ax1.set_ylabel('Previous Wins')\n",
        "ax1.set_xlabel('Corner Color')"
      ],
      "execution_count": null,
      "outputs": []
    },
    {
      "cell_type": "code",
      "metadata": {
        "id": "AnWKat1UfA9g"
      },
      "source": [
        "redWinstreak = sum(data['R_current_win_streak'])\n",
        "print(redWinstreak)\n",
        "\n",
        "blueWinstreak = sum(data['B_current_win_streak'])\n",
        "print(blueWinstreak)\n",
        "\n",
        "fig = plt.figure()\n",
        "ax1 = fig.add_subplot()\n",
        "ax1.bar(['Red', 'Blue'], [redWinstreak, blueWinstreak], width= 0.5)\n",
        "ax1.set_title(\"Current Win Streaks by Corner Color\")\n",
        "ax1.set_ylabel('Current Win Streaks')\n",
        "ax1.set_xlabel('Corner Color')"
      ],
      "execution_count": null,
      "outputs": []
    },
    {
      "cell_type": "markdown",
      "metadata": {
        "id": "RnaD4k0_gj5b"
      },
      "source": [
        "**Cleaning Data**"
      ]
    },
    {
      "cell_type": "code",
      "metadata": {
        "id": "x57TnUAESyEh"
      },
      "source": [
        "total = data.copy()\n",
        "\n",
        "ufc = total.copy()\n",
        "ufc[\"title_bout\"] = ufc[\"title_bout\"].astype(int)\n",
        "\n",
        "ufc = ufc.replace({\"Winner\": {\"Red\": 1, \"Blue\": 0}})\n",
        "ufc.head()"
      ],
      "execution_count": null,
      "outputs": []
    },
    {
      "cell_type": "markdown",
      "metadata": {
        "id": "PwBVcTGeipGR"
      },
      "source": [
        "**Splitting Train and Test Sets**"
      ]
    },
    {
      "cell_type": "code",
      "metadata": {
        "id": "mGfGiU4kiutA"
      },
      "source": [
        "x = ufc.iloc[:,1:]\n",
        "y = ufc.iloc[:,0]\n",
        "\n",
        "x_train, x_test, y_train, y_test = train_test_split(x, y, test_size = 0.2, random_state = 42)"
      ],
      "execution_count": 6,
      "outputs": []
    },
    {
      "cell_type": "markdown",
      "metadata": {
        "id": "uFV0nQKqog0x"
      },
      "source": [
        "**Establishing Baseline**"
      ]
    },
    {
      "cell_type": "code",
      "metadata": {
        "colab": {
          "base_uri": "https://localhost:8080/"
        },
        "id": "lIK6XSxKmipS",
        "outputId": "8ffcceaa-b8fd-4bbc-a5e7-f120838c16e6"
      },
      "source": [
        "dummy_classifier = DummyClassifier(strategy='most_frequent')\n",
        "dummy_classifier.fit(x_train,y_train)\n",
        "baseline_acc = dummy_classifier.score(x_test,y_test)\n",
        "\n",
        "print(\"Baseline accuracy = \", baseline_acc)"
      ],
      "execution_count": 7,
      "outputs": [
        {
          "output_type": "stream",
          "text": [
            "Baseline accuracy =  0.6706181202370872\n"
          ],
          "name": "stdout"
        }
      ]
    },
    {
      "cell_type": "markdown",
      "metadata": {
        "id": "a3dwRbQipA0X"
      },
      "source": [
        "**Logistic Regression Model**"
      ]
    },
    {
      "cell_type": "code",
      "metadata": {
        "colab": {
          "base_uri": "https://localhost:8080/"
        },
        "id": "yxfas4LWpHet",
        "outputId": "2a6ca817-b6ad-4842-905b-0203fef03bb1"
      },
      "source": [
        "logReg = LogisticRegression(random_state= 42, max_iter= 9999)\n",
        "logReg.fit(x_train, y_train)\n",
        "predictLog = logReg.predict(x_test)\n",
        "\n",
        "accuracyLog = accuracy_score(y_test, predictLog)\n",
        "print(\"Accuracy = \", accuracyLog)"
      ],
      "execution_count": 8,
      "outputs": [
        {
          "output_type": "stream",
          "text": [
            "Accuracy =  0.6816257408975445\n"
          ],
          "name": "stdout"
        }
      ]
    },
    {
      "cell_type": "code",
      "metadata": {
        "id": "G3F_XyGatLPK"
      },
      "source": [
        "cvLog = cross_val_score(logReg, x, y, cv= 10)\n",
        "print(\"Cross Validation Score = \", cvLog)"
      ],
      "execution_count": null,
      "outputs": []
    },
    {
      "cell_type": "markdown",
      "metadata": {
        "id": "HWCy-qA21obj"
      },
      "source": [
        "**Support Vector Machines**"
      ]
    },
    {
      "cell_type": "code",
      "metadata": {
        "colab": {
          "base_uri": "https://localhost:8080/"
        },
        "id": "timt4prN1uez",
        "outputId": "92cee781-6702-4eff-c5e7-b2bf932089a3"
      },
      "source": [
        "modelSVM = svm.SVC(C=1, kernel='rbf', probability= True)\n",
        "modelSVM.fit(x_train, y_train)\n",
        "\n",
        "accuracySVM = modelSVM.score(x_train, y_train)\n",
        "print(\"Accuracy: \", accuracySVM)"
      ],
      "execution_count": 36,
      "outputs": [
        {
          "output_type": "stream",
          "text": [
            "Accuracy:  0.6750688413471722\n"
          ],
          "name": "stdout"
        }
      ]
    },
    {
      "cell_type": "code",
      "metadata": {
        "colab": {
          "base_uri": "https://localhost:8080/"
        },
        "id": "NBbXb9pW2Vkj",
        "outputId": "ced9c644-dfaa-4622-ca4f-35b70a7f28a5"
      },
      "source": [
        "cvSVM = np.average(cross_val_score(modelSVM, x, y, cv= 10))\n",
        "print(\"Cross Validation Score = \", cvSVM)"
      ],
      "execution_count": null,
      "outputs": [
        {
          "output_type": "stream",
          "text": [
            "Cross Validation Score =  0.6741784966589234\n"
          ],
          "name": "stdout"
        }
      ]
    },
    {
      "cell_type": "markdown",
      "metadata": {
        "id": "e297BrBm3u4J"
      },
      "source": [
        "**Bagging**"
      ]
    },
    {
      "cell_type": "code",
      "metadata": {
        "colab": {
          "base_uri": "https://localhost:8080/"
        },
        "id": "3UB0EfMC3uhz",
        "outputId": "417ee5d8-4eaf-4a63-ef0c-6fb16d3e1174"
      },
      "source": [
        "modelBag = BaggingClassifier(base_estimator=DecisionTreeClassifier(), n_estimators= 10, random_state= 42)\n",
        "modelBag.fit(x_train, y_train)\n",
        "predictBag = modelBag.predict(x_test)\n",
        "\n",
        "accuracyBag = accuracy_score(y_test, predictBag)\n",
        "print(\"Accuracy = \", accuracyBag)"
      ],
      "execution_count": 37,
      "outputs": [
        {
          "output_type": "stream",
          "text": [
            "Accuracy =  0.6359017781541066\n"
          ],
          "name": "stdout"
        }
      ]
    },
    {
      "cell_type": "code",
      "metadata": {
        "colab": {
          "base_uri": "https://localhost:8080/"
        },
        "id": "TR3Dv8y76OEH",
        "outputId": "cca24675-2993-46d2-f35e-b10dc06d7981"
      },
      "source": [
        "cvBag = np.average(cross_val_score(modelBag, x, y, cv= 10))\n",
        "print(\"Cross Validation Score = \", cvBag)"
      ],
      "execution_count": null,
      "outputs": [
        {
          "output_type": "stream",
          "text": [
            "Cross Validation Score =  0.6065892339900771\n"
          ],
          "name": "stdout"
        }
      ]
    },
    {
      "cell_type": "markdown",
      "metadata": {
        "id": "ILVKURnG69u7"
      },
      "source": [
        "**Random Forest**"
      ]
    },
    {
      "cell_type": "code",
      "metadata": {
        "colab": {
          "base_uri": "https://localhost:8080/"
        },
        "id": "8zKnTe337FgA",
        "outputId": "933ecf92-2ca8-4645-cba0-2caeda660b0f"
      },
      "source": [
        "modelRF = RandomForestClassifier(n_estimators=100, max_features=7, random_state=42)\n",
        "modelRF.fit(x_train, y_train)\n",
        "predictRF = modelRF.predict(x_test)\n",
        "\n",
        "accuracyRF = accuracy_score(y_test, predictRF)\n",
        "print(\"Accuracy = \", accuracyRF)"
      ],
      "execution_count": 40,
      "outputs": [
        {
          "output_type": "stream",
          "text": [
            "Accuracy =  0.6816257408975445\n"
          ],
          "name": "stdout"
        }
      ]
    },
    {
      "cell_type": "code",
      "metadata": {
        "colab": {
          "base_uri": "https://localhost:8080/"
        },
        "id": "vhC5S-Rs7sGt",
        "outputId": "34527125-cac3-4085-ad0b-0b8a38f77388"
      },
      "source": [
        "cvRF = np.average(cross_val_score(modelRF, x, y, cv= 10))\n",
        "print(\"Cross Validation Score = \", cvRF)"
      ],
      "execution_count": null,
      "outputs": [
        {
          "output_type": "stream",
          "text": [
            "Cross Validation Score =  0.6660520806446988\n"
          ],
          "name": "stdout"
        }
      ]
    },
    {
      "cell_type": "code",
      "metadata": {
        "id": "E3B0B_w588o7"
      },
      "source": [
        "feature_importances = modelRF.feature_importances_\n",
        "features = x_train.columns\n",
        "df = pd.DataFrame({'Features': features, 'Importance': feature_importances})\n",
        "df = df.sort_values(by='Importance', ascending=False)\n",
        "\n",
        "df1 = df.iloc[0:10, :]\n",
        "print(df1)\n",
        "\n",
        "ax1 = df1.plot.bar(x= 'Features', y= 'Importance')\n",
        "ax1.set_title('Top RandomForest Features')"
      ],
      "execution_count": null,
      "outputs": []
    },
    {
      "cell_type": "markdown",
      "metadata": {
        "id": "tTe4bPER_n8n"
      },
      "source": [
        "**AdaBoost**"
      ]
    },
    {
      "cell_type": "code",
      "metadata": {
        "colab": {
          "base_uri": "https://localhost:8080/"
        },
        "id": "1YKFhcKY_npb",
        "outputId": "a965a750-bea5-4924-e5ba-955bf6d25da3"
      },
      "source": [
        "base_est = DecisionTreeClassifier(max_depth=4)\n",
        "ada_boost = AdaBoostClassifier(base_est, n_estimators=200, random_state=42, learning_rate=.05)\n",
        "ada_boost.fit(x_train, y_train)\n",
        "\n",
        "accuracyADA = accuracy_score(y_test, ada_boost.predict(x_test))\n",
        "print(\"Accuracy = \", accuracyADA)"
      ],
      "execution_count": 38,
      "outputs": [
        {
          "output_type": "stream",
          "text": [
            "Accuracy =  0.6528365791701948\n"
          ],
          "name": "stdout"
        }
      ]
    },
    {
      "cell_type": "code",
      "metadata": {
        "colab": {
          "base_uri": "https://localhost:8080/"
        },
        "id": "2-OhcAmMAnxP",
        "outputId": "ebf0489d-95e3-4b4d-822e-54f880dffb3b"
      },
      "source": [
        "cvADA = np.average(cross_val_score(ada_boost, x, y, cv= 10))\n",
        "print(\"Cross Validation Score = \", cvADA)"
      ],
      "execution_count": null,
      "outputs": [
        {
          "output_type": "stream",
          "text": [
            "Cross Validation Score =  0.6523307235653445\n"
          ],
          "name": "stdout"
        }
      ]
    },
    {
      "cell_type": "code",
      "metadata": {
        "id": "nJ9k1uUORxy4"
      },
      "source": [
        "feature_importances = ada_boost.feature_importances_\n",
        "print(feature_importances)\n",
        "features = x_train.columns\n",
        "df = pd.DataFrame({'Features': features, 'Importance': feature_importances})\n",
        "df = df.sort_values(by='Importance', ascending=False)\n",
        "\n",
        "df1 = df.iloc[0:10, :]\n",
        "print(df1)\n",
        "\n",
        "ax1 = df1.plot.bar(x= 'Features', y= 'Importance')\n",
        "ax1.set_title('Top AdaBoost Features')"
      ],
      "execution_count": null,
      "outputs": []
    },
    {
      "cell_type": "markdown",
      "metadata": {
        "id": "FOU3LXdnTL3_"
      },
      "source": [
        "**Voting**"
      ]
    },
    {
      "cell_type": "code",
      "metadata": {
        "colab": {
          "base_uri": "https://localhost:8080/"
        },
        "id": "BxeuaA-eTN_O",
        "outputId": "bcfb4c0f-cae4-4001-bd7a-337621b03a6f"
      },
      "source": [
        "modelVote = VotingClassifier(estimators = [('rf', modelRF), ('svm', modelSVM), ('log', logReg), ('ada', ada_boost)], voting='soft') \n",
        "\n",
        "modelVote.fit(x_train, y_train)\n",
        "votePred = modelVote.predict(x_test)\n",
        "\n",
        "accuracyVoting = accuracy_score(y_test, votePred)\n",
        "print(\"Accuracy = \", accuracyVoting)"
      ],
      "execution_count": 41,
      "outputs": [
        {
          "output_type": "stream",
          "text": [
            "Accuracy =  0.6875529212531752\n"
          ],
          "name": "stdout"
        }
      ]
    },
    {
      "cell_type": "code",
      "metadata": {
        "id": "0XBubqXsgdPm"
      },
      "source": [
        "cvVote = np.average(cross_val_score(modelVote, x, y, cv= 10))\n",
        "print(\"Cross Validation Score = \", cvVote)"
      ],
      "execution_count": null,
      "outputs": []
    },
    {
      "cell_type": "markdown",
      "metadata": {
        "id": "00AEVKVOvoAe"
      },
      "source": [
        "**Conclusions**"
      ]
    },
    {
      "cell_type": "code",
      "metadata": {
        "id": "u-Z4Yd6-vqR4",
        "colab": {
          "base_uri": "https://localhost:8080/",
          "height": 312
        },
        "outputId": "3f59893c-991d-4420-f8e1-1f9a48feb181"
      },
      "source": [
        "fig = plt.figure()\n",
        "ax1 = fig.add_subplot()\n",
        "ax1.bar(['LogReg', 'SVM', 'Bagging', 'RF', 'AdaBoost', 'Voting'], [accuracyLog, accuracySVM, accuracyBag, accuracyRF, accuracyADA, accuracyVoting], width= 0.5)\n",
        "ax1.set_title(\"Accuracy Comparison by Model\")\n",
        "ax1.set_ylabel('Accuracy')\n",
        "ax1.set_xlabel('Model')"
      ],
      "execution_count": 43,
      "outputs": [
        {
          "output_type": "execute_result",
          "data": {
            "text/plain": [
              "Text(0.5, 0, 'Model')"
            ]
          },
          "metadata": {
            "tags": []
          },
          "execution_count": 43
        },
        {
          "output_type": "display_data",
          "data": {
            "image/png": "[encoded data removed]",
            "text/plain": [
              "<Figure size 432x288 with 1 Axes>"
            ]
          },
          "metadata": {
            "tags": [],
            "needs_background": "light"
          }
        }
      ]
    }
  ]
}